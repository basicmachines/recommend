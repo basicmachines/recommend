{
 "cells": [
  {
   "cell_type": "code",
   "execution_count": 3,
   "metadata": {
    "collapsed": false
   },
   "outputs": [],
   "source": [
    "## Machine Learning Online Class\n",
    "#  Exercise 8 | Anomaly Detection and Collaborative Filtering\n",
    "#\n",
    "#  Instructions\n",
    "#  ------------\n",
    "#\n",
    "#  This file contains code that helps you get started on the\n",
    "#  exercise. You will need to complete the following functions:\n",
    "#\n",
    "#     estimateGaussian.m\n",
    "#     selectThreshold.m\n",
    "#     cofiCostFunc.m\n",
    "#\n",
    "#  For this exercise, you will not need to change any code in this file,\n",
    "#  or any other files other than those mentioned above.\n",
    "#\n",
    "\n",
    "## Initialization\n",
    "import numpy as np\n",
    "import matplotlib.pyplot as plt\n",
    "%matplotlib inline\n"
   ]
  },
  {
   "cell_type": "code",
   "execution_count": 9,
   "metadata": {
    "collapsed": false
   },
   "outputs": [
    {
     "name": "stdout",
     "output_type": "stream",
     "text": [
      "Visualizing example dataset for outlier detection.\n",
      "\n",
      "\n"
     ]
    },
    {
     "ename": "IOError",
     "evalue": "Failed to interpret file 'ex8data1.mat' as a pickle",
     "output_type": "error",
     "traceback": [
      "\u001b[0;31m---------------------------------------------------------------------------\u001b[0m",
      "\u001b[0;31mIOError\u001b[0m                                   Traceback (most recent call last)",
      "\u001b[0;32m<ipython-input-9-fa4456f529b8>\u001b[0m in \u001b[0;36m<module>\u001b[0;34m()\u001b[0m\n\u001b[1;32m     12\u001b[0m \u001b[0;31m#  The following command loads the dataset. You should now have the\u001b[0m\u001b[0;34m\u001b[0m\u001b[0;34m\u001b[0m\u001b[0m\n\u001b[1;32m     13\u001b[0m \u001b[0;31m#  variables X, Xval, yval in your environment\u001b[0m\u001b[0;34m\u001b[0m\u001b[0;34m\u001b[0m\u001b[0m\n\u001b[0;32m---> 14\u001b[0;31m \u001b[0mX\u001b[0m \u001b[0;34m=\u001b[0m \u001b[0mnp\u001b[0m\u001b[0;34m.\u001b[0m\u001b[0mload\u001b[0m\u001b[0;34m(\u001b[0m\u001b[0;34m'ex8data1.mat'\u001b[0m\u001b[0;34m)\u001b[0m\u001b[0;34m\u001b[0m\u001b[0m\n\u001b[0m\u001b[1;32m     15\u001b[0m \u001b[0;34m\u001b[0m\u001b[0m\n",
      "\u001b[0;32m/Users/billtubbs/anaconda/lib/python2.7/site-packages/numpy/lib/npyio.pyc\u001b[0m in \u001b[0;36mload\u001b[0;34m(file, mmap_mode, allow_pickle, fix_imports, encoding)\u001b[0m\n\u001b[1;32m    414\u001b[0m             \u001b[0;32mexcept\u001b[0m\u001b[0;34m:\u001b[0m\u001b[0;34m\u001b[0m\u001b[0m\n\u001b[1;32m    415\u001b[0m                 raise IOError(\n\u001b[0;32m--> 416\u001b[0;31m                     \"Failed to interpret file %s as a pickle\" % repr(file))\n\u001b[0m\u001b[1;32m    417\u001b[0m     \u001b[0;32mfinally\u001b[0m\u001b[0;34m:\u001b[0m\u001b[0;34m\u001b[0m\u001b[0m\n\u001b[1;32m    418\u001b[0m         \u001b[0;32mif\u001b[0m \u001b[0mown_fid\u001b[0m\u001b[0;34m:\u001b[0m\u001b[0;34m\u001b[0m\u001b[0m\n",
      "\u001b[0;31mIOError\u001b[0m: Failed to interpret file 'ex8data1.mat' as a pickle"
     ]
    }
   ],
   "source": [
    "## ================== Part 1: Load Example Dataset  ===================\n",
    "#  We start this exercise by using a small dataset that is easy to\n",
    "#  visualize.\n",
    "#\n",
    "#  Our example case consists of 2 network server statistics across\n",
    "#  several machines: the latency and throughput of each machine.\n",
    "#  This exercise will help us find possibly faulty (or very fast) machines.\n",
    "#\n",
    "\n",
    "print('Visualizing example dataset for outlier detection.\\n\\n')\n",
    "\n",
    "#  The following command loads the dataset. You should now have the\n",
    "#  variables X, Xval, yval in your environment\n",
    "X = np.load('ex8data1.mat')\n",
    "\n"
   ]
  },
  {
   "cell_type": "code",
   "execution_count": 6,
   "metadata": {
    "collapsed": false
   },
   "outputs": [
    {
     "ename": "NameError",
     "evalue": "name 'X' is not defined",
     "output_type": "error",
     "traceback": [
      "\u001b[0;31m---------------------------------------------------------------------------\u001b[0m",
      "\u001b[0;31mNameError\u001b[0m                                 Traceback (most recent call last)",
      "\u001b[0;32m<ipython-input-6-253bcac7dd80>\u001b[0m in \u001b[0;36m<module>\u001b[0;34m()\u001b[0m\n\u001b[0;32m----> 1\u001b[0;31m \u001b[0mX\u001b[0m\u001b[0;34m\u001b[0m\u001b[0m\n\u001b[0m",
      "\u001b[0;31mNameError\u001b[0m: name 'X' is not defined"
     ]
    }
   ],
   "source": [
    "X"
   ]
  },
  {
   "cell_type": "code",
   "execution_count": null,
   "metadata": {
    "collapsed": true
   },
   "outputs": [],
   "source": [
    "#  Visualize the example dataset\n",
    "plt.plot(X[:, 1], X[:, 2], 'bx')\n",
    "axis([0 30 0 30])\n",
    "xlabel('Latency (ms)')\n",
    "ylabel('Throughput (mb/s)')\n",
    "\n",
    "raw_input('Program paused. Press enter to continue.\\n')\n",
    "\n",
    "\n"
   ]
  },
  {
   "cell_type": "code",
   "execution_count": null,
   "metadata": {
    "collapsed": true
   },
   "outputs": [],
   "source": [
    "## Machine Learning Online Class\n",
    "#  Exercise 8 | Anomaly Detection and Collaborative Filtering\n",
    "#\n",
    "#  Instructions\n",
    "#  ------------\n",
    "#\n",
    "#  This file contains code that helps you get started on the\n",
    "#  exercise. You will need to complete the following functions:\n",
    "#\n",
    "#     estimateGaussian.m\n",
    "#     selectThreshold.m\n",
    "#     cofiCostFunc.m\n",
    "#\n",
    "#  For this exercise, you will not need to change any code in this file,\n",
    "#  or any other files other than those mentioned above.\n",
    "#\n",
    "\n",
    "## Initialization\n",
    "clear ; close all; clc\n",
    "\n",
    "## ================== Part 1: Load Example Dataset  ===================\n",
    "#  We start this exercise by using a small dataset that is easy to\n",
    "#  visualize.\n",
    "#\n",
    "#  Our example case consists of 2 network server statistics across\n",
    "#  several machines: the latency and throughput of each machine.\n",
    "#  This exercise will help us find possibly faulty (or very fast) machines.\n",
    "#\n",
    "\n",
    "fprintf('Visualizing example dataset for outlier detection.\\n\\n');\n",
    "\n",
    "#  The following command loads the dataset. You should now have the\n",
    "#  variables X, Xval, yval in your environment\n",
    "load('ex8data1.mat');\n",
    "\n",
    "#  Visualize the example dataset\n",
    "plot(X(:, 1), X(:, 2), 'bx');\n",
    "axis([0 30 0 30]);\n",
    "xlabel('Latency (ms)');\n",
    "ylabel('Throughput (mb/s)');\n",
    "\n",
    "fprintf('Program paused. Press enter to continue.\\n');\n",
    "pause\n",
    "\n",
    "\n",
    "## ================== Part 2: Estimate the dataset statistics ===================\n",
    "#  For this exercise, we assume a Gaussian distribution for the dataset.\n",
    "#\n",
    "#  We first estimate the parameters of our assumed Gaussian distribution, \n",
    "#  then compute the probabilities for each of the points and then visualize \n",
    "#  both the overall distribution and where each of the points falls in \n",
    "#  terms of that distribution.\n",
    "#\n",
    "fprintf('Visualizing Gaussian fit.\\n\\n');\n",
    "\n",
    "#  Estimate my and sigma2\n",
    "[mu sigma2] = estimateGaussian(X);\n",
    "\n",
    "#  Returns the density of the multivariate normal at each data point (row) \n",
    "#  of X\n",
    "p = multivariateGaussian(X, mu, sigma2);\n",
    "\n",
    "#  Visualize the fit\n",
    "visualizeFit(X,  mu, sigma2);\n",
    "xlabel('Latency (ms)');\n",
    "ylabel('Throughput (mb/s)');\n",
    "\n",
    "fprintf('Program paused. Press enter to continue.\\n');\n",
    "pause;\n",
    "\n",
    "## ================== Part 3: Find Outliers ===================\n",
    "#  Now you will find a good epsilon threshold using a cross-validation set\n",
    "#  probabilities given the estimated Gaussian distribution\n",
    "# \n",
    "\n",
    "pval = multivariateGaussian(Xval, mu, sigma2);\n",
    "\n",
    "[epsilon F1] = selectThreshold(yval, pval);\n",
    "fprintf('Best epsilon found using cross-validation: %e\\n', epsilon);\n",
    "fprintf('Best F1 on Cross Validation Set:  %f\\n', F1);\n",
    "fprintf('   (you should see a value epsilon of about 8.99e-05)\\n\\n');\n",
    "\n",
    "#  Find the outliers in the training set and plot the\n",
    "outliers = find(p < epsilon);\n",
    "\n",
    "#  Draw a red circle around those outliers\n",
    "hold on\n",
    "plot(X(outliers, 1), X(outliers, 2), 'ro', 'LineWidth', 2, 'MarkerSize', 10);\n",
    "hold off\n",
    "\n",
    "fprintf('Program paused. Press enter to continue.\\n');\n",
    "pause;\n",
    "\n",
    "## ================== Part 4: Multidimensional Outliers ===================\n",
    "#  We will now use the code from the previous part and apply it to a \n",
    "#  harder problem in which more features describe each datapoint and only \n",
    "#  some features indicate whether a point is an outlier.\n",
    "#\n",
    "\n",
    "#  Loads the second dataset. You should now have the\n",
    "#  variables X, Xval, yval in your environment\n",
    "load('ex8data2.mat');\n",
    "\n",
    "#  Apply the same steps to the larger dataset\n",
    "[mu sigma2] = estimateGaussian(X);\n",
    "\n",
    "#  Training set \n",
    "p = multivariateGaussian(X, mu, sigma2);\n",
    "\n",
    "#  Cross-validation set\n",
    "pval = multivariateGaussian(Xval, mu, sigma2);\n",
    "\n",
    "#  Find the best threshold\n",
    "[epsilon F1] = selectThreshold(yval, pval);\n",
    "\n",
    "fprintf('Best epsilon found using cross-validation: %e\\n', epsilon);\n",
    "fprintf('Best F1 on Cross Validation Set:  %f\\n', F1);\n",
    "fprintf('# Outliers found: %d\\n', sum(p < epsilon));\n",
    "fprintf('   (you should see a value epsilon of about 1.38e-18)\\n\\n');\n",
    "pause\n",
    "\n",
    "\n",
    "\n"
   ]
  }
 ],
 "metadata": {
  "kernelspec": {
   "display_name": "Python 2",
   "language": "python",
   "name": "python2"
  },
  "language_info": {
   "codemirror_mode": {
    "name": "ipython",
    "version": 2
   },
   "file_extension": ".py",
   "mimetype": "text/x-python",
   "name": "python",
   "nbconvert_exporter": "python",
   "pygments_lexer": "ipython2",
   "version": "2.7.11"
  }
 },
 "nbformat": 4,
 "nbformat_minor": 0
}
